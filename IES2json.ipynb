{
  "nbformat": 4,
  "nbformat_minor": 0,
  "metadata": {
    "colab": {
      "provenance": [],
      "authorship_tag": "ABX9TyPSlFBjU7o5LmuQzZizQv2y",
      "include_colab_link": true
    },
    "kernelspec": {
      "name": "python3",
      "display_name": "Python 3"
    },
    "language_info": {
      "name": "python"
    }
  },
  "cells": [
    {
      "cell_type": "markdown",
      "metadata": {
        "id": "view-in-github",
        "colab_type": "text"
      },
      "source": [
        "<a href=\"https://colab.research.google.com/github/kaincao/IES2json/blob/main/IES2json.ipynb\" target=\"_parent\"><img src=\"https://colab.research.google.com/assets/colab-badge.svg\" alt=\"Open In Colab\"/></a>"
      ]
    },
    {
      "cell_type": "code",
      "execution_count": 1,
      "metadata": {
        "colab": {
          "base_uri": "https://localhost:8080/"
        },
        "id": "d_qKpajN3Ndf",
        "outputId": "a8ae2894-8bca-4653-8cdd-0f012f08e2aa"
      },
      "outputs": [
        {
          "output_type": "stream",
          "name": "stdout",
          "text": [
            "{\n",
            "  \"metadata\": {\n",
            "    \"test\": \"ABC1234\",\n",
            "    \"manufac\": \"Acme Lighting Company\",\n",
            "    \"lumcat\": \"DEMO-LIGHT\",\n",
            "    \"luminaire\": \"Demo Light Fixture\",\n",
            "    \"tilt\": \"NONE\"\n",
            "  },\n",
            "  \"photometric_data\": {\n",
            "    \"number_of_lamps\": 1,\n",
            "    \"lumens_per_lamp\": -1.0,\n",
            "    \"candela_multiplier\": 1.0,\n",
            "    \"number_of_vertical_angles\": 37,\n",
            "    \"number_of_horizontal_angles\": 1,\n",
            "    \"photometric_type\": 1,\n",
            "    \"unit_type\": 2,\n",
            "    \"width\": -0.12,\n",
            "    \"length\": 0.0,\n",
            "    \"height\": 0.2,\n",
            "    \"ballast_factor\": 1.0,\n",
            "    \"future_use\": 1.0,\n",
            "    \"input_watts\": 20.0,\n",
            "    \"vertical_angles\": [\n",
            "      0.0,\n",
            "      22.5,\n",
            "      45.0,\n",
            "      67.5,\n",
            "      90.0,\n",
            "      0.0,\n",
            "      45.0,\n",
            "      90.0,\n",
            "      1000.0,\n",
            "      965.0,\n",
            "      930.0,\n",
            "      890.0,\n",
            "      850.0,\n",
            "      1000.0,\n",
            "      950.0,\n",
            "      900.0,\n",
            "      860.0,\n",
            "      820.0\n",
            "    ],\n",
            "    \"horizontal_angles\": [],\n",
            "    \"candela_values\": []\n",
            "  }\n",
            "}\n"
          ]
        }
      ],
      "source": [
        "# IES sample\n",
        "IES_SAMPLE = \"\"\"IESNA:LM-63-2002\n",
        "[TEST] ABC1234\n",
        "[MANUFAC] Acme Lighting Company\n",
        "[LUMCAT] DEMO-LIGHT\n",
        "[LUMINAIRE] Demo Light Fixture\n",
        "TILT=NONE\n",
        "1 -1 1 37 1 1 2 -0.12 0.00 0.20\n",
        "1.0 1.0 20.0\n",
        "0.0 22.5 45.0 67.5 90.0\n",
        "0.0 45.0 90.0\n",
        "1000 965 930 890 850\n",
        "1000 950 900 860 820\n",
        "\"\"\"\n",
        "\n",
        "import json\n",
        "\n",
        "def ies_to_json(ies_content):\n",
        "    lines = ies_content.strip().split('\\n')\n",
        "    json_data = {\n",
        "        \"metadata\": {},\n",
        "        \"photometric_data\": {}\n",
        "    }\n",
        "\n",
        "    # Parsing metadata\n",
        "    for line in lines:\n",
        "        if line.startswith('['):\n",
        "            key, value = line[1:].split(']')\n",
        "            json_data[\"metadata\"][key.lower()] = value.strip()\n",
        "        elif line.startswith('TILT='):\n",
        "            json_data[\"metadata\"][\"tilt\"] = line.split('=')[1]\n",
        "        elif line[0].isdigit():\n",
        "            # Start processing photometric data\n",
        "            break\n",
        "\n",
        "    # Interpreting photometric data\n",
        "    numbers = ' '.join(lines[lines.index('TILT=NONE')+1:]).split()\n",
        "    numbers = [float(n) for n in numbers]\n",
        "\n",
        "    json_data[\"photometric_data\"] = {\n",
        "        \"number_of_lamps\": int(numbers[0]),\n",
        "        \"lumens_per_lamp\": numbers[1],\n",
        "        \"candela_multiplier\": numbers[2],\n",
        "        \"number_of_vertical_angles\": int(numbers[3]),\n",
        "        \"number_of_horizontal_angles\": int(numbers[4]),\n",
        "        \"photometric_type\": int(numbers[5]),\n",
        "        \"unit_type\": int(numbers[6]),\n",
        "        \"width\": numbers[7],\n",
        "        \"length\": numbers[8],\n",
        "        \"height\": numbers[9],\n",
        "        \"ballast_factor\": numbers[10],\n",
        "        \"future_use\": numbers[11],\n",
        "        \"input_watts\": numbers[12],\n",
        "        \"vertical_angles\": numbers[13:13+int(numbers[3])],\n",
        "        \"horizontal_angles\": numbers[13+int(numbers[3]):13+int(numbers[3])+int(numbers[4])],\n",
        "        \"candela_values\": numbers[13+int(numbers[3])+int(numbers[4]):]\n",
        "    }\n",
        "\n",
        "    return json.dumps(json_data, indent=2)\n",
        "\n",
        "# Convert to JSON\n",
        "json_output = ies_to_json(IES_SAMPLE)\n",
        "print(json_output)"
      ]
    }
  ]
}